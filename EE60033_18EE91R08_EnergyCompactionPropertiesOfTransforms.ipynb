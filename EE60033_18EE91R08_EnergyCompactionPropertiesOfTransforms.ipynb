{
 "cells": [
  {
   "cell_type": "code",
   "execution_count": 1,
   "metadata": {},
   "outputs": [
    {
     "name": "stdout",
     "output_type": "stream",
     "text": [
      "[1.25 2.75 3.5  4.  ]\n"
     ]
    }
   ],
   "source": [
    "import matplotlib.pyplot as plt\n",
    "import numpy as np\n",
    "\n",
    "def haar_matrix(N):\n",
    "\n",
    "    if N > 2:\n",
    "        D_haar = haar_matrix(N/2)       \n",
    "    else:\n",
    "        D_haar = (1/np.sqrt(2))*np.array([[1, 1], [1, -1]])\n",
    "        return D_haar\n",
    "        \n",
    "    # calculate upper part\n",
    "    D_haar_u = np.kron(D_haar,[(1/np.sqrt(2)),(1/np.sqrt(2))]) \n",
    "\n",
    "    # calculate lower part \n",
    "    D_haar_l = np.kron(np.eye(len(D_haar)),[(1/np.sqrt(2)),-(1/np.sqrt(2))])\n",
    "\n",
    "    # Combine \n",
    "    D_haar = np.vstack((D_haar_u, D_haar_l))\n",
    "\n",
    "    return D_haar\n",
    "\n",
    "def inv_haar_matrix(D_haar,N):\n",
    "    \n",
    "    inv_D_haar = D_haar.T \n",
    "    return inv_D_haar\n",
    "\n",
    "h = haar_matrix(4)\n",
    "inv_h = inv_haar_matrix(h,4)\n",
    "\n",
    "x = [1.25, 2.75, 3.5, 4]\n",
    "X_haar = np.dot(h,x)\n",
    "x_haar = np.dot(inv_h,X_haar)\n",
    "print(x_haar)"
   ]
  },
  {
   "cell_type": "code",
   "execution_count": 2,
   "metadata": {},
   "outputs": [
    {
     "name": "stdout",
     "output_type": "stream",
     "text": [
      "[1.25 2.5  3.75 4.  ]\n"
     ]
    }
   ],
   "source": [
    "import matplotlib.pyplot as plt\n",
    "import numpy as np\n",
    "\n",
    "def dct_matrix(N):\n",
    "    D_dct = np.ones((N,N))\n",
    "    \n",
    "    for k in range(0,N):\n",
    "        for n in range(0,N):\n",
    "            D_dct[k,n] = 2*np.cos(np.pi*k*(2*n+1)/(2*N))\n",
    "            \n",
    "    return D_dct\n",
    "\n",
    "def inv_dct_matrix(D_dct,N):\n",
    "\n",
    "    tempa = np.vstack((0.5*D_dct[0,:], D_dct[1:N,:]))\n",
    "    inv_D_dct = (1/(2*N))*tempa.T\n",
    "                 \n",
    "    return inv_D_dct\n",
    "                 \n",
    "h = dct_matrix(4)\n",
    "inv_h = inv_dct_matrix(h,4)\n",
    "\n",
    "x = [1.25, 2.5, 3.75, 4]\n",
    "X_dct = np.dot(h,x)\n",
    "x_dct = np.dot(inv_h,X_dct)\n",
    "print(x_dct)"
   ]
  },
  {
   "cell_type": "code",
   "execution_count": 3,
   "metadata": {},
   "outputs": [
    {
     "name": "stdout",
     "output_type": "stream",
     "text": [
      "[1.25 2.5  3.75 4.  ] [-6.58402400e-16 -2.75700275e-16  4.40687738e-17  2.98585030e-16]\n"
     ]
    }
   ],
   "source": [
    "import matplotlib.pyplot as plt\n",
    "import numpy as np\n",
    "\n",
    "def dft_matrix(N):\n",
    "    D_dft = np.ones((N,N), dtype = np.complex)\n",
    "    \n",
    "    for k in range(1,N):\n",
    "        for n in range(1,N):\n",
    "            D_dft[k,n] = np.exp(-1j*2*np.pi*k*n/N)\n",
    "    \n",
    "    return D_dft\n",
    "\n",
    "def inv_dft_matrix(D,N):\n",
    "    inv_D_dft = (1/N) * np.conjugate(D) \n",
    "    \n",
    "    return inv_D_dft\n",
    "\n",
    "h = dft_matrix(4)\n",
    "inv_h = inv_dft_matrix(h,4)\n",
    "\n",
    "x = [1.25, 2.5, 3.75, 4]\n",
    "X_dft = np.dot(h,x)\n",
    "x_dft = np.dot(inv_h,X_dft)\n",
    "print(x_dft.real, x_dft.imag)"
   ]
  },
  {
   "cell_type": "code",
   "execution_count": 20,
   "metadata": {},
   "outputs": [
    {
     "data": {
      "text/plain": [
       "Text(0,0.5,'Energy_L')"
      ]
     },
     "execution_count": 20,
     "metadata": {},
     "output_type": "execute_result"
    },
    {
     "data": {
      "image/png": "[encoded data removed]",
      "text/plain": [
       "<Figure size 432x288 with 1 Axes>"
      ]
     },
     "metadata": {},
     "output_type": "display_data"
    }
   ],
   "source": [
    "import matplotlib.pyplot as plt\n",
    "import numpy as np\n",
    "import math\n",
    "from statsmodels.tsa.arima_process import ArmaProcess\n",
    "\n",
    "def energy_calc(x,y,N): \n",
    "    energy_l = 0\n",
    "    for n in range (0,N):\n",
    "        energy_l = energy_l + (abs(x[n]-y[n])**2)\n",
    "    \n",
    "    energy_l = (1/N)*energy_l\n",
    "    return energy_l\n",
    "\n",
    "N=64\n",
    "np.random.seed(100)\n",
    "x = np.random.random_sample(N)\n",
    "\n",
    "#ar = np.array([1, -0.9])\n",
    "#ma = np.array([1])\n",
    "#AR_obj = ArmaProcess(ar, ma)\n",
    "#x = AR_obj.generate_sample(nsample=N)\n",
    "\n",
    "D_dft = dft_matrix(N)\n",
    "inv_D_dft = inv_dft_matrix(D_dft,N)\n",
    "\n",
    "D_dct = dct_matrix(N)\n",
    "inv_D_dct = inv_dct_matrix(D_dct,N)\n",
    "\n",
    "D_haar = haar_matrix(N)\n",
    "inv_D_haar = inv_haar_matrix(D_haar,N)\n",
    "\n",
    "X_dft = np.dot(D_dft,x)\n",
    "X_dct = np.dot(D_dct,x)\n",
    "X_haar = np.dot(D_haar,x)\n",
    "\n",
    "Larray = [4,10,20,30,40,50,60]\n",
    "energy_dft = []\n",
    "energy_dct = []\n",
    "energy_haar = []\n",
    "\n",
    "X_dft_m = np.ones((N),dtype = complex)\n",
    "X_dct_m = np.ones((N))\n",
    "X_haar_m = np.ones((N))\n",
    "\n",
    "for L in Larray:\n",
    "    for k in range (0,int((N-L)/2)):\n",
    "        X_dft_m[k] = X_dft[k]\n",
    "    for k in range (int((N-L)/2), int((N+L)/2)):\n",
    "        X_dft_m[k] = 0\n",
    "    for k in range (int((N+L)/2), N):\n",
    "        X_dft_m[k] = X_dft[k]\n",
    "\n",
    "    for k in range (0, N-L):\n",
    "        X_dct_m[k] = X_dct[k]\n",
    "        X_haar_m[k] = X_haar[k]\n",
    "        \n",
    "    for k in range (N-L, N):\n",
    "        X_dct_m[k] = 0\n",
    "        X_haar_m[k] = 0\n",
    "\n",
    "    #print(X_dft_m)\n",
    "    #print(X_dct_m)\n",
    "    #print(X_haar_m)\n",
    "    \n",
    "    x_dft_m = np.dot(inv_D_dft,X_dft_m)\n",
    "    x_dct_m = np.dot(inv_D_dct,X_dct_m)\n",
    "    x_haar_m = np.dot(inv_D_haar,X_haar_m)\n",
    "\n",
    "    energy_dft.append(energy_calc(x,x_dft_m,N))\n",
    "    energy_dct.append(energy_calc(x,x_dct_m,N))\n",
    "    energy_haar.append(energy_calc(x,x_haar_m,N))\n",
    "\n",
    "fig,ax = plt.subplots()\n",
    "ax.plot(Larray,energy_dft, 'o-')\n",
    "ax.plot(Larray,energy_dct, 'x-')\n",
    "ax.plot(Larray,energy_haar, '*-')\n",
    "ax.set_xlabel('L (# of high freq. samples set to 0)',fontsize=14)\n",
    "ax.set_ylabel('Energy_L',fontsize=14)\n"
   ]
  },
  {
   "cell_type": "code",
   "execution_count": null,
   "metadata": {},
   "outputs": [],
   "source": []
  }
 ],
 "metadata": {
  "kernelspec": {
   "display_name": "Python 3",
   "language": "python",
   "name": "python3"
  },
  "language_info": {
   "codemirror_mode": {
    "name": "ipython",
    "version": 3
   },
   "file_extension": ".py",
   "mimetype": "text/x-python",
   "name": "python",
   "nbconvert_exporter": "python",
   "pygments_lexer": "ipython3",
   "version": "3.6.5"
  }
 },
 "nbformat": 4,
 "nbformat_minor": 2
}
